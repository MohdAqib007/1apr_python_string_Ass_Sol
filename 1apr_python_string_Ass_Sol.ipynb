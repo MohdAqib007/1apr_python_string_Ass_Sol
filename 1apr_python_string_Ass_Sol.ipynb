{
 "cells": [
  {
   "cell_type": "code",
   "execution_count": 3,
   "id": "b66d7e76-1d57-4c3c-84f1-414635704b6c",
   "metadata": {},
   "outputs": [],
   "source": [
    "#Q1. How can we store a single quote (‘) as a string in a variable?\n",
    "#Ans-\n",
    "\n",
    "'''To store a single quote (') as a string in a variable in Python, you can use double quotes (\"\") to define the string. Here's an example:\n",
    "In this example, the string is defined using double quotes, and the single quote is included within the string. When you print my_string, you will see the following output:'''\n",
    "\n",
    "\n",
    "my_string = \"Here's a single quote: ' \"\n"
   ]
  },
  {
   "cell_type": "code",
   "execution_count": 4,
   "id": "e57927ea-2d49-4a71-b2af-db0fc70b4d3a",
   "metadata": {},
   "outputs": [
    {
     "data": {
      "text/plain": [
       "\"Here's a single quote: ' \""
      ]
     },
     "execution_count": 4,
     "metadata": {},
     "output_type": "execute_result"
    }
   ],
   "source": [
    "my_string"
   ]
  },
  {
   "cell_type": "code",
   "execution_count": 5,
   "id": "cda8eaa5-0d7a-4624-a904-e8fea59b4ff1",
   "metadata": {},
   "outputs": [],
   "source": [
    "#Q2. Refer the below variable: x = ‘a' (Here, is x a character type or string type variable? Support your answer with an explanation.\n",
    "#Ans-\n",
    "\n",
    "x = 'a'\n",
    " \n",
    "'''Here x is a string type variable because if variable is enclosed within the single quotes ('') and in In Python, a single character is also considered a string of length one. \n",
    "Therefore, when you assign a single character to a variable using quotes, it is considered a string type variable.'''    "
   ]
  },
  {
   "cell_type": "code",
   "execution_count": 7,
   "id": "7be45e15-7f9e-47d6-a32b-027130c394fd",
   "metadata": {},
   "outputs": [
    {
     "data": {
      "text/plain": [
       "str"
      ]
     },
     "execution_count": 7,
     "metadata": {},
     "output_type": "execute_result"
    }
   ],
   "source": [
    "type(x)"
   ]
  },
  {
   "cell_type": "code",
   "execution_count": 8,
   "id": "3616aad2-df76-417d-ad88-7098ea0b5365",
   "metadata": {},
   "outputs": [
    {
     "data": {
      "text/plain": [
       "\"#Q3. Apply the following functions on this variable: ‘Welcome to Python foundation course'\\n1. find()\\n2. count()\\n3. len()\\n4. Concatenation\\nNote: You can use your choice of parameters. But make sure it is correct.\""
      ]
     },
     "execution_count": 8,
     "metadata": {},
     "output_type": "execute_result"
    }
   ],
   "source": [
    "'''#Q3. Apply the following functions on this variable: ‘Welcome to Python foundation course'\n",
    "1. find()\n",
    "2. count()\n",
    "3. len()\n",
    "4. Concatenation\n",
    "Note: You can use your choice of parameters. But make sure it is correct.'''\n"
   ]
  },
  {
   "cell_type": "code",
   "execution_count": 10,
   "id": "699f54ac-526b-4763-af07-bdcaf73a3d64",
   "metadata": {},
   "outputs": [],
   "source": [
    "#Ans-\n",
    "\n",
    "s = 'Welcome to Python foundation course'"
   ]
  },
  {
   "cell_type": "code",
   "execution_count": 11,
   "id": "c90a959f-4f25-49f1-bd4e-d6f47f962b0e",
   "metadata": {},
   "outputs": [
    {
     "data": {
      "text/plain": [
       "4"
      ]
     },
     "execution_count": 11,
     "metadata": {},
     "output_type": "execute_result"
    }
   ],
   "source": [
    "s.find('o')"
   ]
  },
  {
   "cell_type": "code",
   "execution_count": 12,
   "id": "ba0d110c-8b97-47d2-8e18-236fd19898b0",
   "metadata": {},
   "outputs": [
    {
     "data": {
      "text/plain": [
       "2"
      ]
     },
     "execution_count": 12,
     "metadata": {},
     "output_type": "execute_result"
    }
   ],
   "source": [
    "s.count(\"u\")"
   ]
  },
  {
   "cell_type": "code",
   "execution_count": 14,
   "id": "0cfc844c-ea3c-4f9d-8875-98aeb20f90d7",
   "metadata": {},
   "outputs": [
    {
     "data": {
      "text/plain": [
       "35"
      ]
     },
     "execution_count": 14,
     "metadata": {},
     "output_type": "execute_result"
    }
   ],
   "source": [
    "len(s)"
   ]
  },
  {
   "cell_type": "code",
   "execution_count": 16,
   "id": "95605dad-6ac7-4494-9416-cbe3a6cf4677",
   "metadata": {},
   "outputs": [
    {
     "data": {
      "text/plain": [
       "-1"
      ]
     },
     "execution_count": 16,
     "metadata": {},
     "output_type": "execute_result"
    }
   ],
   "source": [
    "s.find(\"w\")"
   ]
  },
  {
   "cell_type": "code",
   "execution_count": 17,
   "id": "303151a4-7b40-4647-b27b-bf81dacec897",
   "metadata": {},
   "outputs": [
    {
     "data": {
      "text/plain": [
       "0"
      ]
     },
     "execution_count": 17,
     "metadata": {},
     "output_type": "execute_result"
    }
   ],
   "source": [
    "s.find(\"W\")"
   ]
  },
  {
   "cell_type": "code",
   "execution_count": 18,
   "id": "f6362088-d613-43d2-8294-1c37b3657a4a",
   "metadata": {},
   "outputs": [],
   "source": [
    "s1 = 'Welcome to Python '\n",
    "s2 = 'foundation course'"
   ]
  },
  {
   "cell_type": "code",
   "execution_count": 19,
   "id": "eea449b0-b83e-457d-b515-76726c03fa5b",
   "metadata": {},
   "outputs": [],
   "source": [
    "s3= s1 + s2"
   ]
  },
  {
   "cell_type": "code",
   "execution_count": 20,
   "id": "dfb86eb5-550e-43db-b744-10a221258469",
   "metadata": {},
   "outputs": [
    {
     "data": {
      "text/plain": [
       "'Welcome to Python foundation course'"
      ]
     },
     "execution_count": 20,
     "metadata": {},
     "output_type": "execute_result"
    }
   ],
   "source": [
    "s3"
   ]
  },
  {
   "cell_type": "code",
   "execution_count": null,
   "id": "1fb1ca04-78b0-4c03-b04e-5badf4f13d0e",
   "metadata": {},
   "outputs": [],
   "source": []
  },
  {
   "cell_type": "code",
   "execution_count": null,
   "id": "2c145c7f-5316-47cc-81d7-a13c35e2b224",
   "metadata": {},
   "outputs": [],
   "source": []
  },
  {
   "cell_type": "code",
   "execution_count": 23,
   "id": "5bf4d7b7-410f-47d5-85a6-92e67bf9946f",
   "metadata": {},
   "outputs": [
    {
     "data": {
      "text/plain": [
       "\"Q4. For the variable: word = 'PanaJi@1256'\\nCalculate the follow1ng:\\n(a) Total number of alphabets in lowercase\\n(b) Total number of alphabets in uppercase\\n(c) Total number of numerical in string\""
      ]
     },
     "execution_count": 23,
     "metadata": {},
     "output_type": "execute_result"
    }
   ],
   "source": [
    "'''Q4. For the variable: word = 'PanaJi@1256'\n",
    "Calculate the follow1ng:\n",
    "(a) Total number of alphabets in lowercase\n",
    "(b) Total number of alphabets in uppercase\n",
    "(c) Total number of numerical in string'''"
   ]
  },
  {
   "cell_type": "code",
   "execution_count": 24,
   "id": "74741436-d17f-4ea3-b92e-ee46bcd1da1f",
   "metadata": {},
   "outputs": [],
   "source": [
    "#Ans\n",
    "word = 'PanaJi@1256'\n"
   ]
  },
  {
   "cell_type": "code",
   "execution_count": 25,
   "id": "1dbd230a-dca2-4dac-8a8a-fd8c70bbc124",
   "metadata": {},
   "outputs": [
    {
     "data": {
      "text/plain": [
       "'PanaJi@1256'"
      ]
     },
     "execution_count": 25,
     "metadata": {},
     "output_type": "execute_result"
    }
   ],
   "source": [
    "word"
   ]
  },
  {
   "cell_type": "code",
   "execution_count": 39,
   "id": "ff955e46-140f-4e6a-852b-feb39528667a",
   "metadata": {},
   "outputs": [
    {
     "name": "stdout",
     "output_type": "stream",
     "text": [
      "4\n"
     ]
    }
   ],
   "source": [
    "word = 'PanaJi@1256'\n",
    "count =0\n",
    "for char in word:\n",
    "    if char.islower():\n",
    "        count += 1\n",
    "print(count)"
   ]
  },
  {
   "cell_type": "code",
   "execution_count": 40,
   "id": "0b4ce9fb-bf52-4100-9679-cdef693d6801",
   "metadata": {},
   "outputs": [
    {
     "name": "stdout",
     "output_type": "stream",
     "text": [
      "2\n"
     ]
    }
   ],
   "source": [
    "word = 'PanaJi@1256'\n",
    "count = 0\n",
    "for char in word:\n",
    "    if char.isupper():\n",
    "        count += 1\n",
    "print(count)\n"
   ]
  },
  {
   "cell_type": "code",
   "execution_count": 45,
   "id": "77956b39-ad81-4995-8b5f-8fc52d8938f5",
   "metadata": {},
   "outputs": [
    {
     "name": "stdout",
     "output_type": "stream",
     "text": [
      "4\n"
     ]
    }
   ],
   "source": [
    "word = 'PanaJi@1256'\n",
    "count = 0\n",
    "for char in word:\n",
    "    if char.isdigit():\n",
    "        count += 1\n",
    "print(count)\n"
   ]
  },
  {
   "cell_type": "code",
   "execution_count": null,
   "id": "d57ef0e3-5022-4c1f-9ba2-7b290e29b452",
   "metadata": {},
   "outputs": [],
   "source": []
  },
  {
   "cell_type": "code",
   "execution_count": 46,
   "id": "652856b4-9cb5-480a-96cf-f3179eb6b4f9",
   "metadata": {},
   "outputs": [
    {
     "data": {
      "text/plain": [
       "int"
      ]
     },
     "execution_count": 46,
     "metadata": {},
     "output_type": "execute_result"
    }
   ],
   "source": [
    "#Q5. Write a code to store a numerical value inside a variable then convert it into string.\n",
    "#Ans-\n",
    "a = 123565\n",
    "type(a)"
   ]
  },
  {
   "cell_type": "code",
   "execution_count": 47,
   "id": "94f00db4-c905-48bf-8bf2-24d9cfbc2f77",
   "metadata": {},
   "outputs": [],
   "source": [
    "a= str(a)"
   ]
  },
  {
   "cell_type": "code",
   "execution_count": 48,
   "id": "d4c3a51c-8e1e-4d52-97a9-2d27c0d97b93",
   "metadata": {},
   "outputs": [
    {
     "data": {
      "text/plain": [
       "'123565'"
      ]
     },
     "execution_count": 48,
     "metadata": {},
     "output_type": "execute_result"
    }
   ],
   "source": [
    "a"
   ]
  },
  {
   "cell_type": "code",
   "execution_count": 49,
   "id": "5b7f722f-8ca3-4ad1-8839-9e1609ae5810",
   "metadata": {},
   "outputs": [
    {
     "data": {
      "text/plain": [
       "str"
      ]
     },
     "execution_count": 49,
     "metadata": {},
     "output_type": "execute_result"
    }
   ],
   "source": [
    "type(a)"
   ]
  },
  {
   "cell_type": "code",
   "execution_count": null,
   "id": "5a5068cb-61b7-4a86-b9fa-15cfc7eaec7b",
   "metadata": {},
   "outputs": [],
   "source": []
  }
 ],
 "metadata": {
  "kernelspec": {
   "display_name": "Python 3 (ipykernel)",
   "language": "python",
   "name": "python3"
  },
  "language_info": {
   "codemirror_mode": {
    "name": "ipython",
    "version": 3
   },
   "file_extension": ".py",
   "mimetype": "text/x-python",
   "name": "python",
   "nbconvert_exporter": "python",
   "pygments_lexer": "ipython3",
   "version": "3.10.8"
  }
 },
 "nbformat": 4,
 "nbformat_minor": 5
}
